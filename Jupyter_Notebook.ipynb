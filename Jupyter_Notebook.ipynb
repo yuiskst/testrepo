{
 "cells": [
  {
   "cell_type": "markdown",
   "metadata": {},
   "source": [
    "<center>\n",
    "    <img src=\"https://cf-courses-data.s3.us.cloud-object-storage.appdomain.cloud/IBMDeveloperSkillsNetwork-DS0105EN-SkillsNetwork/labs/Module2/images/SN_web_lightmode.png\" width=\"300\" alt=\"cognitiveclass.ai logo\">\n",
    "</center>\n"
   ]
  },
  {
   "cell_type": "markdown",
   "metadata": {},
   "source": [
    "#### Add your code below following the instructions given in the course\n"
   ]
  },
  {
   "cell_type": "markdown",
   "metadata": {},
   "source": [
    "<h1>Title: jajaja<h1>"
   ]
  },
  {
   "cell_type": "markdown",
   "metadata": {},
   "source": [
    "<h2>Introduction: Bonjour, ça va ?<h2>"
   ]
  },
  {
   "cell_type": "markdown",
   "metadata": {},
   "source": [
    "## Data Science Languages\n",
    "1. **Python:** \n",
    "2. **R:**\n",
    "3. **SQL:** \n"
   ]
  },
  {
   "cell_type": "markdown",
   "metadata": {
    "tags": []
   },
   "source": [
    "## Data Science Libraries in Python\n",
    "\n",
    "1. **NumPy:** \n",
    "\n",
    "2. **Pandas:** \n",
    "\n",
    "3. **Matplotlib:** \n"
   ]
  },
  {
   "cell_type": "markdown",
   "metadata": {},
   "source": [
    "## Data Science Tools\n",
    "\n",
    "| Tool           | Description                                                       |\n",
    "|----------------|-------------------------------------------------------------------|\n",
    "| **Python**     | A versatile programming language widely used in data science. It offers rich libraries like NumPy, Pandas, and Scikit-learn. |\n",
    "| **R**          | A programming language and environment for statistical computing and graphics, popular in academia and research. |\n",
    "| **SQL**        | A language for managing and querying relational databases, essential for data storage and retrieval. |\n",
    "| **Tableau**    | A powerful data visualization tool that allows users to create interactive and shareable dashboards. |\n",
    "| **Power BI**   | A business analytics service by Microsoft, used for data visualization and interactive reporting. |\n",
    "| **Jupyter Notebook** | An interactive computing environment that enables creating and sharing documents containing live code, visualizations, and narrative text. |\n",
    "| **Apache Spark** | An open-source big data processing framework supporting distributed data processing and machine learning. |\n",
    "| **Hadoop**     | An open-source framework for distributed storage and processing of large datasets. Often used in big data applications. |\n",
    "| **Git**        | A version control system frequently used in data science projects to manage code and collaboration. |\n",
    "| **Docker**     | A platform used to develop, deploy, and run applications inside containers, facilitating reproducibility. |\n",
    "| **Anaconda**   | A distribution of Python for data science, which includes popular libraries and package management. |\n",
    "| **IBM Watson Studio** | A cloud-based data science platform with tools for data exploration, visualization, and machine learning. |\n"
   ]
  },
  {
   "cell_type": "markdown",
   "metadata": {},
   "source": [
    "Addition:\n",
    "5 + 3\n",
    "Result: 8\n",
    "Subtraction:\n",
    "10 - 4\n",
    "Result: 6\n",
    "\n"
   ]
  },
  {
   "cell_type": "code",
   "execution_count": 6,
   "metadata": {
    "tags": []
   },
   "outputs": [
    {
     "name": "stdout",
     "output_type": "stream",
     "text": [
      "5 * 3 = 15\n",
      "10 + 4 = 14\n"
     ]
    }
   ],
   "source": [
    "# Multiplication\n",
    "num1 = 5\n",
    "num2 = 3\n",
    "result_mul = num1 * num2\n",
    "print(f\"{num1} * {num2} = {result_mul}\")\n",
    "\n",
    "# Addition\n",
    "num3 = 10\n",
    "num4 = 4\n",
    "result_add = num3 + num4\n",
    "print(f\"{num3} + {num4} = {result_add}\")\n"
   ]
  },
  {
   "cell_type": "code",
   "execution_count": 7,
   "metadata": {
    "tags": []
   },
   "outputs": [
    {
     "name": "stdout",
     "output_type": "stream",
     "text": [
      "135 minutes is equal to 2 hours and 15 minutes.\n"
     ]
    }
   ],
   "source": [
    "def convert_minutes_to_hours(minutes):\n",
    "    hours = minutes // 60\n",
    "    remaining_minutes = minutes % 60\n",
    "    return hours, remaining_minutes\n",
    "\n",
    "# Test the function with an example value\n",
    "minutes_input = 135\n",
    "hours_output, minutes_output = convert_minutes_to_hours(minutes_input)\n",
    "\n",
    "print(f\"{minutes_input} minutes is equal to {hours_output} hours and {minutes_output} minutes.\")\n"
   ]
  },
  {
   "cell_type": "markdown",
   "metadata": {},
   "source": [
    "## Objectives\n",
    "\n",
    "In this exercise, we aim to achieve the following objectives:\n",
    "\n",
    "1. **Familiarity with Data Science Languages:** List and briefly describe some of the commonly used programming languages in the field of data science.\n",
    "\n",
    "2. **Exploring Data Science Libraries:** Provide an overview of popular data science libraries in Python and their specific use cases.\n",
    "\n"
   ]
  },
  {
   "cell_type": "markdown",
   "metadata": {},
   "source": [
    "## Author: Your Name\n"
   ]
  },
  {
   "cell_type": "code",
   "execution_count": null,
   "metadata": {},
   "outputs": [],
   "source": []
  }
 ],
 "metadata": {
  "kernelspec": {
   "display_name": "Python",
   "language": "python",
   "name": "conda-env-python-py"
  },
  "language_info": {
   "codemirror_mode": {
    "name": "ipython",
    "version": 3
   },
   "file_extension": ".py",
   "mimetype": "text/x-python",
   "name": "python",
   "nbconvert_exporter": "python",
   "pygments_lexer": "ipython3",
   "version": "3.7.12"
  }
 },
 "nbformat": 4,
 "nbformat_minor": 4
}
